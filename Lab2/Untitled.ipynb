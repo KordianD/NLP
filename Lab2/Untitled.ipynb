{
 "cells": [
  {
   "cell_type": "markdown",
   "metadata": {},
   "source": [
    "We want to create frequency stats based on one of the polish text."
   ]
  },
  {
   "cell_type": "markdown",
   "metadata": {},
   "source": [
    "Read file odm.txt which servers as a dictionary with all of the declination in polish language."
   ]
  },
  {
   "cell_type": "code",
   "execution_count": 31,
   "metadata": {},
   "outputs": [],
   "source": [
    "dictionary = dict()\n",
    "\n",
    "for line in open('data/odm.txt', encoding='utf-8'):\n",
    "    words = [word.strip().lower() for word in line.strip().split(',')]\n",
    "    base_word = words[0]\n",
    "    \n",
    "    for word in words:\n",
    "        dictionary[word] = base_word\n",
    "    "
   ]
  },
  {
   "cell_type": "markdown",
   "metadata": {},
   "source": [
    "Going through the text, find in the dictionary base_word for given element and add 1 to frequency_stats for this word. Additionally, punctuation is removed."
   ]
  },
  {
   "cell_type": "code",
   "execution_count": 32,
   "metadata": {},
   "outputs": [],
   "source": [
    "import string\n",
    "\n",
    "frequency_stats = dict()\n",
    "\n",
    "for line in open('data/potop.txt', encoding='utf-8'):\n",
    "    words = [word.strip().lower() for word in line.strip().translate(str.maketrans('', '', string.punctuation)).split()]\n",
    "    \n",
    "    for word in words:\n",
    "        if word in frequency_stats:\n",
    "            frequency_stats[word] += 1\n",
    "        else:\n",
    "            frequency_stats[word] = 0"
   ]
  },
  {
   "cell_type": "markdown",
   "metadata": {},
   "source": [
    "Write frequency_stats to stats.txt"
   ]
  },
  {
   "cell_type": "code",
   "execution_count": 33,
   "metadata": {},
   "outputs": [],
   "source": [
    "with open('stats.txt', 'w+') as file:\n",
    "    for word in sorted(frequency_stats, key=frequency_stats.get, reverse=True):\n",
    "        file.write(\"{word}: {number_of_times}\\n\".format(word=word, number_of_times=frequency_stats[word]))"
   ]
  },
  {
   "cell_type": "markdown",
   "metadata": {},
   "source": [
    "Create frequency plot"
   ]
  },
  {
   "cell_type": "code",
   "execution_count": 37,
   "metadata": {},
   "outputs": [
    {
     "data": {
      "text/plain": [
       "<matplotlib.legend.Legend at 0x7f0886a28e10>"
      ]
     },
     "execution_count": 37,
     "metadata": {},
     "output_type": "execute_result"
    },
    {
     "data": {
      "image/png": "[encoded data removed]",
      "text/plain": [
       "<Figure size 432x288 with 1 Axes>"
      ]
     },
     "metadata": {
      "needs_background": "light"
     },
     "output_type": "display_data"
    }
   ],
   "source": [
    "import matplotlib.pyplot as plt\n",
    "%matplotlib inline\n",
    "\n",
    "limit_words = 20\n",
    "\n",
    "list_of_sorted_words = sorted(frequency_stats, key=frequency_stats.get, reverse=True)\n",
    "list_of_frequencies = [frequency_stats[word] for word in list_of_sorted_words]\n",
    "\n",
    "list_of_limited_sorted_words = sorted(frequency_stats, key=frequency_stats.get, reverse=True)[:limit_words]\n",
    "list_of_limited_frequencies = [frequency_stats[word] for word in list_of_limited_sorted_words]\n",
    "\n",
    "zipf_law = []\n",
    "\n",
    "for index, frequency in enumerate(list_of_limited_frequencies):\n",
    "    zipf_law.append(frequency/(index+1))\n",
    "    \n",
    "plt.plot(list_of_limited_sorted_words_, zipf_law)\n",
    "plt.plot(list_of_limited_sorted_words_, list_of_limited_frequencies)\n",
    "plt.legend(['zipf_law', 'book'], loc='upper right')"
   ]
  },
  {
   "cell_type": "markdown",
   "metadata": {},
   "source": [
    "Calculate how many words are 'hapax legomena'. (Frequency is equal 1)"
   ]
  },
  {
   "cell_type": "code",
   "execution_count": 39,
   "metadata": {},
   "outputs": [
    {
     "data": {
      "text/plain": [
       "7429"
      ]
     },
     "execution_count": 39,
     "metadata": {},
     "output_type": "execute_result"
    }
   ],
   "source": [
    "hapax_legomena = list_of_frequencies.count(1)\n",
    "\n",
    "hapax_legomena"
   ]
  },
  {
   "cell_type": "markdown",
   "metadata": {},
   "source": [
    "Calculate cumulative frequency, how many words are needed to fulfill 50% of text."
   ]
  },
  {
   "cell_type": "code",
   "execution_count": 44,
   "metadata": {},
   "outputs": [
    {
     "data": {
      "text/plain": [
       "199"
      ]
     },
     "execution_count": 44,
     "metadata": {},
     "output_type": "execute_result"
    }
   ],
   "source": [
    "how_many_words = sum(list_of_frequencies)\n",
    "half_of_all_words = how_many_words / 2\n",
    "\n",
    "how_many_words_needed = 0\n",
    "while sum(list_of_frequencies[:how_many_words_needed]) < half_of_all_words:\n",
    "    how_many_words_needed += 1\n",
    "    \n",
    "how_many_words_needed"
   ]
  },
  {
   "cell_type": "code",
   "execution_count": null,
   "metadata": {},
   "outputs": [],
   "source": []
  }
 ],
 "metadata": {
  "kernelspec": {
   "display_name": "Python 3",
   "language": "python",
   "name": "python3"
  },
  "language_info": {
   "codemirror_mode": {
    "name": "ipython",
    "version": 3
   },
   "file_extension": ".py",
   "mimetype": "text/x-python",
   "name": "python",
   "nbconvert_exporter": "python",
   "pygments_lexer": "ipython3",
   "version": "3.7.1"
  }
 },
 "nbformat": 4,
 "nbformat_minor": 2
}
